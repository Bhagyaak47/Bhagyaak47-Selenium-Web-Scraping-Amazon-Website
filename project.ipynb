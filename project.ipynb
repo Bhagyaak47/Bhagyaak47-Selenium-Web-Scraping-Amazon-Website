{
 "cells": [
  {
   "cell_type": "code",
   "execution_count": 9,
   "metadata": {},
   "outputs": [
    {
     "name": "stdout",
     "output_type": "stream",
     "text": [
      "26 items found\n",
      "26 items found\n",
      "26 items found\n",
      "26 items found\n",
      "26 items found\n",
      "26 items found\n",
      "26 items found\n",
      "26 items found\n",
      "26 items found\n",
      "60 items found\n",
      "26 items found\n",
      "26 items found\n",
      "26 items found\n",
      "26 items found\n",
      "26 items found\n",
      "0 items found\n",
      "26 items found\n",
      "26 items found\n",
      "26 items found\n"
     ]
    }
   ],
   "source": [
    "from selenium import webdriver\n",
    "from selenium.webdriver.common.keys import Keys\n",
    "from selenium.webdriver.common.by import By\n",
    "import time\n",
    "\n",
    "driver = webdriver.Chrome()\n",
    "query = \"Laptop\"\n",
    "file = 0\n",
    "for i in range(1,20):\n",
    "    driver.get(f\"https://www.amazon.in/s?k={query}&page={i} &crid=2JJ698DWM4DJA&qid=1732786373&sprefix=laptop%2Caps%2C196&ref=sr_pg_2\")\n",
    "\n",
    "    elems = driver.find_elements(By.CLASS_NAME,\"puis-card-container\")\n",
    "    print(f\"{len(elems)} items found\")\n",
    "    for  elem in elems:\n",
    "        d = elem.get_attribute(\"outerHTML\")\n",
    "        with open(f\"data/{query}_{file}.html\",\"w\", encoding = \"utf-8\") as f:\n",
    "            f.write(d)\n",
    "            file +=1\n",
    "\n",
    "        \n",
    "    time.sleep(2)\n",
    "driver.close()"
   ]
  },
  {
   "cell_type": "code",
   "execution_count": null,
   "metadata": {},
   "outputs": [],
   "source": []
  },
  {
   "cell_type": "code",
   "execution_count": null,
   "metadata": {},
   "outputs": [],
   "source": []
  },
  {
   "cell_type": "code",
   "execution_count": null,
   "metadata": {},
   "outputs": [],
   "source": []
  },
  {
   "cell_type": "code",
   "execution_count": null,
   "metadata": {},
   "outputs": [],
   "source": []
  },
  {
   "cell_type": "code",
   "execution_count": null,
   "metadata": {},
   "outputs": [],
   "source": []
  },
  {
   "cell_type": "code",
   "execution_count": null,
   "metadata": {},
   "outputs": [],
   "source": []
  },
  {
   "cell_type": "code",
   "execution_count": null,
   "metadata": {},
   "outputs": [],
   "source": []
  },
  {
   "cell_type": "code",
   "execution_count": null,
   "metadata": {},
   "outputs": [],
   "source": []
  }
 ],
 "metadata": {
  "kernelspec": {
   "display_name": "base",
   "language": "python",
   "name": "python3"
  },
  "language_info": {
   "codemirror_mode": {
    "name": "ipython",
    "version": 3
   },
   "file_extension": ".py",
   "mimetype": "text/x-python",
   "name": "python",
   "nbconvert_exporter": "python",
   "pygments_lexer": "ipython3",
   "version": "3.10.9"
  }
 },
 "nbformat": 4,
 "nbformat_minor": 2
}
